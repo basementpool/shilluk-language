{
 "cells": [
  {
   "cell_type": "code",
   "execution_count": 1,
   "id": "4cbc5c87",
   "metadata": {},
   "outputs": [],
   "source": [
    "import os\n",
    "import pandas as pd\n",
    "import re\n",
    "import shutil\n",
    "from audiolabel import read_label\n",
    "\n",
    "\n",
    "# Identify the name of the .TextGrid file (manual)\n",
    "fname = \"05OCT2013_OttoGwadoAyoker_DengsFish_10SEPT21.TextGrid\"\n",
    "storyname = \"DengsFish\"\n",
    "\n",
    "# Read .TextGrid tiers into temporary tables\n",
    "[phon, gloss, orth, trans] = read_label(fname,\n",
    "                                        ftype='praat', \n",
    "                                        tiers=['phon', 'gloss', 'orth', 'trans'])\n",
    "\n",
    "\n",
    "# Save the tier tables to local .csv files\n",
    "# Read .csv files as DataFrame's\n",
    "pname = storyname + \"_scratch\"\n",
    "if not os.path.exists(pname):\n",
    "    os.makedirs(pname)\n",
    "\n",
    "phon.to_csv(pname + '/phon.csv', index=False)\n",
    "phondf = pd.read_csv(pname + '/phon.csv')\n",
    "\n",
    "gloss.to_csv(pname + '/gloss.csv', index=False)\n",
    "glossdf = pd.read_csv(pname + '/gloss.csv')\n",
    "\n",
    "orth.to_csv(pname + '/orth.csv', index=False)\n",
    "orthdf = pd.read_csv(pname + '/orth.csv')\n",
    "\n",
    "trans.to_csv(pname + '/trans.csv', index=False)\n",
    "transdf = pd.read_csv(pname + '/trans.csv')\n",
    "\n",
    "\n",
    "# Drop fname column and rename time columns\n",
    "phondf = phondf.drop('fname', axis=1).rename({'t1': 't1_phon', 't2': 't2_phon'}, axis='columns')\n",
    "glossdf = glossdf.drop('fname', axis=1).rename({'t1': 't1_gloss', 't2': 't2_gloss'}, axis='columns')\n",
    "orthdf = orthdf.drop('fname', axis=1).rename({'t1': 't1_orth', 't2': 't2_orth'}, axis='columns')\n",
    "transdf = transdf.drop('fname', axis=1).rename({'t1': 't1_trans', 't2': 't2_trans'}, axis='columns')"
   ]
  },
  {
   "cell_type": "code",
   "execution_count": 2,
   "id": "fbc9f687",
   "metadata": {},
   "outputs": [],
   "source": [
    "# Merge the four DataFrame's into pgot\n",
    "pg = pd.merge_asof(\n",
    "    phondf,\n",
    "    glossdf,\n",
    "    left_on='t1_phon',\n",
    "    right_on='t1_gloss'\n",
    ")\n",
    "pgo = pd.merge_asof(\n",
    "    pg,\n",
    "    orthdf,\n",
    "    left_on='t1_phon',\n",
    "    right_on='t1_orth'\n",
    ")\n",
    "pgot = pd.merge_asof(\n",
    "    pgo,\n",
    "    transdf,\n",
    "    left_on='t1_phon',\n",
    "    right_on='t1_trans'\n",
    ")\n",
    "\n",
    "#pgot.head(20)"
   ]
  },
  {
   "cell_type": "code",
   "execution_count": 3,
   "id": "a0cc96b3",
   "metadata": {},
   "outputs": [],
   "source": [
    "# Drop the NaN values from pgot\n",
    "pgot_dropped = pgot.dropna(subset=[\"phon\", \"gloss\", \"orth\", \"trans\"])\n",
    "\n",
    "#pgot_dropped.head(20)"
   ]
  },
  {
   "cell_type": "code",
   "execution_count": 4,
   "id": "a41c8ff4",
   "metadata": {},
   "outputs": [],
   "source": [
    "# Standardize IPA symbols\n",
    "\n",
    "ipa_dict = pd.read_csv(\"ipa_dict.csv\")\n",
    "columns = [\"phon\", \"gloss\", \"orth\", \"trans\"]\n",
    "\n",
    "# To prevent warning messages on modifying the DataFrame\n",
    "pgot_dropped = pgot_dropped.copy()\n",
    "\n",
    "for col in columns:\n",
    "    for i, row in ipa_dict.iterrows():\n",
    "        pgot_dropped[col] = pgot_dropped[col].apply(lambda x: re.sub(row[\"regex\"], row[\"ipa\"], x))\n",
    "        \n",
    "#pgot_dropped.head(20)"
   ]
  },
  {
   "cell_type": "code",
   "execution_count": 5,
   "id": "7ea8f761",
   "metadata": {},
   "outputs": [],
   "source": [
    "# Save pgot_dropped to local .csv\n",
    "pgot_dropped.to_csv(storyname + \".csv\")"
   ]
  },
  {
   "cell_type": "code",
   "execution_count": 6,
   "id": "41313e92",
   "metadata": {},
   "outputs": [],
   "source": [
    "# Delete the scratch folder\n",
    "if shutil.os.path.exists(pname):\n",
    "    shutil.rmtree(pname)"
   ]
  },
  {
   "cell_type": "code",
   "execution_count": 7,
   "id": "c489f7b5",
   "metadata": {},
   "outputs": [],
   "source": [
    "# Phase II\n",
    "\n",
    "# Concatenate phons, glosses, and orths for each trans\n",
    "con_phon = pgot_dropped.groupby('trans', sort=False)['phon'].apply(lambda x: ' '.join(x)).reset_index()\n",
    "con_gloss = pgot_dropped.groupby('trans', sort=False)['gloss'].apply(lambda x: ' '.join(x)).reset_index()\n",
    "unique_orth_df = pgot_dropped[['trans', 'orth']].drop_duplicates()\n",
    "con_orth = unique_orth_df.groupby('trans', sort=False)['orth'].apply(lambda x: ' '.join(x)).reset_index()"
   ]
  },
  {
   "cell_type": "code",
   "execution_count": 10,
   "id": "bc967418",
   "metadata": {},
   "outputs": [],
   "source": [
    "# Building .json for the story\n",
    "sentences = {}\n",
    "rows = []\n",
    "sentences['rows'] = rows\n",
    "num = con_phon.shape[0]\n",
    "\n",
    "for i in range(num):\n",
    "    sentence = {}\n",
    "    sentence_id = storyname + '_' + str(i)\n",
    "    sentence['id'] = sentence_id\n",
    "    sentence['key'] = [storyname, sentence_id, sentence_id]\n",
    "    \n",
    "    value = {}\n",
    "    value['story'] = storyname\n",
    "    \n",
    "    sentence_content = {}\n",
    "    sentence_content['utterance'] = con_orth[\"orth\"][i]\n",
    "    sentence_content['morphemes'] = con_phon[\"phon\"][i]\n",
    "    sentence_content['gloss'] = con_gloss[\"gloss\"][i]\n",
    "    sentence_content['translation'] = con_orth[\"trans\"][i]\n",
    "    value['sentence'] = sentence_content\n",
    "    \n",
    "    sentence['value'] = value\n",
    "    rows.append(sentence)\n",
    "\n",
    "dictionary = {}\n",
    "dictionary['total_rows'] = num\n",
    "dictionary['offset'] = 0\n",
    "dictionary['rows'] = rows\n",
    "\n",
    "import json\n",
    "json_file_path = storyname + '.json'\n",
    "with open(json_file_path, 'w') as json_file:\n",
    "    json.dump(dictionary, json_file)"
   ]
  },
  {
   "cell_type": "code",
   "execution_count": null,
   "id": "9f6c7407",
   "metadata": {},
   "outputs": [],
   "source": []
  }
 ],
 "metadata": {
  "kernelspec": {
   "display_name": "Python 3 (ipykernel)",
   "language": "python",
   "name": "python3"
  },
  "language_info": {
   "codemirror_mode": {
    "name": "ipython",
    "version": 3
   },
   "file_extension": ".py",
   "mimetype": "text/x-python",
   "name": "python",
   "nbconvert_exporter": "python",
   "pygments_lexer": "ipython3",
   "version": "3.9.12"
  }
 },
 "nbformat": 4,
 "nbformat_minor": 5
}
